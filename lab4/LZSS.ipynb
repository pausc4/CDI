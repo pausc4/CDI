{
 "cells": [
  {
   "cell_type": "code",
   "execution_count": 34,
   "metadata": {},
   "outputs": [],
   "source": [
    "def LZSS_encode(txt, m, s,t):\n",
    "    tok = []\n",
    "    tok.append((txt[0]))\n",
    "    current_pos = 1\n",
    "    search = txt[0]\n",
    "    lookahead = txt[1:1+t]\n",
    "    while current_pos < len(txt):\n",
    "        offset = 0\n",
    "        length = 0\n",
    "        window = search + lookahead\n",
    "        for i in range(len(search)-1, -1, -1):\n",
    "            if search[i] == lookahead[0]:\n",
    "                match = True\n",
    "                iwind = i+1\n",
    "                jwind = len(search)+1\n",
    "                maxlen = 1\n",
    "                while match and jwind < len(window):\n",
    "                    if window[iwind] == window[jwind]:\n",
    "                       maxlen += 1\n",
    "                       iwind += 1\n",
    "                       jwind += 1\n",
    "                    else:\n",
    "                        match = False\n",
    "                if (maxlen > length):\n",
    "                    offset = len(search)-i\n",
    "                    length = maxlen\n",
    "        if length < m:\n",
    "            tok.append((lookahead[0]))\n",
    "            current_pos += 1\n",
    "        else:\n",
    "            tok.append((offset,length))\n",
    "            current_pos += length\n",
    "        if (current_pos-s < 0):\n",
    "            search = txt[0:current_pos]\n",
    "        else:\n",
    "            search = txt[current_pos-s:current_pos]\n",
    "        lookahead = txt[current_pos:current_pos+t]\n",
    "    return tok\n",
    "\n",
    "def LZSS_decode(tok):\n",
    "    txt = ''\n",
    "    for token in tok:\n",
    "        if isinstance(token, str):\n",
    "            txt += token[0]\n",
    "        else:\n",
    "            for i in range(token[1]):\n",
    "                txt += txt[-token[0]]\n",
    "    return txt\n"
   ]
  },
  {
   "cell_type": "code",
   "execution_count": 38,
   "metadata": {},
   "outputs": [
    {
     "name": "stdout",
     "output_type": "stream",
     "text": [
      "l resto fragile e defunto che tra luom del sepulcro e in vita il serba gli saria stato o tronco o svelto in erba ma quella gentil maga che piu cura navea chegli medesmo di se stesso penso di trarlo per via alpestre e dura alla vera virtu mal grado desso come eccellente medico che cura con ferro e fuoco e con veneno spesso che se ben molto da principio offende poi giova al fine e grazia se gli rende ella non gli era facile e talmente fattane cieca di superchio amore che come facea atlante solamente a darli vita avesse posto il core quel piu tosto volea che lungamente vivesse e senza fama e senza onore che con tutta la laude che sia al mondo mancasse un anno al suo viver giocondo lavea mandato allisola dalcina perche obliasse larme in quella corte e come mago di somma dottrina chusar sapea glincanti dogni sorte avea il cor stretto di quella regina ne lamor desso dun laccio si forte che non se ne era mai per poter sciorre sinvecchiasse ruggier piu di nestorre or tornando a colei chera presaga di quanto de avvenir dico che tenne la dritta via dove lerrante e vaga figlia damon seco a incontrar si venne bradamante vedendo la sua maga muta la pena che prima sostenne tutta in speranza e quella lapre il vero chad alcina e condotto il suo ruggiero la giovane riman presso che morta quando ode che l suo amante e cosi lunge e piu che nel suo amor periglio porta se gran rimedio e subito non giunge ma la benigna maga la conforta e presta pon limpiastro ove il duol punge e le promette e giura in pochi giorni far che ruggiero a riveder lei torni da che donna dicea lannello hai teco che val contra ogni magica fattura io non ho dubbio alcun\n",
      "False\n"
     ]
    }
   ],
   "source": [
    "txt1 = \"Setze jutges d'un jutjat mengen fetge d'un penjat.\"\n",
    "txt2=20*\"a\"\n",
    "txt3=20*\"a\"+\"b\"\n",
    "txt4=15*\"aeiou\" \n",
    "txt5=3*\"a\"+\"xyz\"+5*\"b\"+\"xyz\"+3*\"c\"+\"xyz\"+5*\"d\";\n",
    "\n",
    "txt = \"and getting uneasy for though we are very umble master copperfield we are much attached to one another if you would come and see us any afternoon and take a cup of tea at our lowly dwelling mother would be as proud of your company as i should be i said i should be glad to come thank you master copperfield returned uriah putting his book away upon the shelfi suppose you stop here some time master copperfield i said i was going to be brought up there i believed as long as i remained at school oh indeed exclaimed uriah i should think you would come into the business at last master copperfield i protested that i had no views of that sort and that no such scheme was entertained in my behalf by anybody but uriah insisted on blandly replying to all my assurances oh yes master copperfield i should think you would indeed and oh indeed master copperfield i should think you would certainly over and over again being at last ready to leave the office for the night he asked me if it would suit my convenience to have the light put out and on my answering yes instantly extinguished it after shaking hands with mehis hand felt like a fish in the darkhe opened the door into the street a very little and crept out and shut it leaving me to grope my way back into the house which cost me some trouble and a fall over his stool this was the proximate cause i suppose of my dreaming about him for what appeared to me to be half the night and dreaming among other things that he had launched mr peggottys house on a piratical expedition with a black flag at the masthead bearing the inscription tidds practice under which diabolical ensign he was carrying me and little emly to the spanish main to be drowned i got a little the better of my\"\n",
    "\n",
    "R = LZSS_encode(txt, 4, 128, 16)\n",
    "R = ['l', ' ', 'r', 'e', 's', 't', 'o', ' ', 'f', 'r', 'a', 'g', 'i', 'l', 'e', ' ', (2, 2), 'd', 'e', 'f', 'u', 'n', (18, 3), 'c', 'h', (12, 2), 't', (22, 2), ' ', 'l', 'u', 'o', 'm', (21, 3), (41, 2), 's', 'e', 'p', 'u', 'l', 'c', 'r', (26, 2), (24, 2), 'i', 'n', ' ', 'v', 'i', 't', (28, 2), (50, 2), (22, 3), 'r', 'b', (9, 2), 'g', 'l', 'i', (10, 2), 'a', 'r', 'i', (10, 2), (77, 2), 'a', (61, 3), (2, 2), (59, 2), 'o', 'n', 'c', (9, 4), 's', 'v', (60, 2), (18, 3), (51, 3), (42, 5), 'm', (3, 2), 'q', 'u', (18, 2), 'l', (52, 3), 'e', (103, 2), (65, 3), (17, 2), 'g', (12, 2), (109, 4), 'p', 'i', 'u', (8, 2), 'u', (114, 3), 'n', 'a', (51, 2), (19, 5), (86, 4), 'm', 'e', (124, 2), 's', 'm', (64, 2), 'd', (97, 3), (36, 2), (94, 2), (13, 2), 's', (13, 2), 'p', (59, 2), (6, 3), (19, 3), (161, 3), 'r', 'l', (16, 4), 'r', (145, 3), (52, 2), 'a', 'l', (10, 2), (35, 2), (210, 2), (199, 4), (74, 4), (16, 2), (104, 3), (77, 2), (10, 3), (30, 2), 'r', 't', (95, 2), (108, 2), (112, 2), 'g', (14, 2), 'd', (60, 3), (72, 5), (161, 2), (95, 2), (44, 2), 'c', 'c', (144, 3), (141, 3), (11, 2), (109, 3), 'i', (181, 3), (142, 4), (138, 5), (12, 2), (182, 2), 'f', (63, 2), (244, 5), (278, 2), 'o', (27, 3), (25, 3), (20, 3), (83, 2), 'n', (2, 2), (219, 3), (110, 3), (70, 4), (47, 3), (156, 3), 'b', (19, 2), (65, 2), 'o', (236, 4), 'd', (58, 2), 'p', (268, 2), (255, 2), 'i', (211, 2), (258, 3), 'f', (66, 2), 'n', (111, 2), (18, 2), 'o', (175, 2), (355, 2), 'o', 'v', (150, 4), (77, 2), (30, 2), (165, 4), (140, 3), 'z', (308, 4), (10, 3), (235, 3), (184, 2), (40, 4), (284, 5), (93, 2), (76, 2), (19, 4), (187, 4), 'f', 'a', (73, 2), (410, 5), (346, 2), 'l', (161, 2), (167, 4), (18, 2), 't', (12, 2), (65, 3), (24, 2), (188, 2), (32, 2), (282, 4), 'u', (258, 3), (135, 2), (110, 3), 'a', (130, 2), (255, 3), (193, 5), (220, 4), (60, 3), (331, 3), (47, 2), (83, 2), (56, 4), (172, 2), (8, 2), (66, 6), (54, 3), (313, 3), (57, 2), (454, 5), (367, 3), (199, 2), (161, 4), (315, 2), (424, 3), (157, 2), (58, 2), (67, 3), (421, 4), (403, 5), (20, 2), (23, 4), 'v', (59, 2), (404, 6), ' ', 'l', 'u', 'n', (433, 2), (70, 6), (62, 2), (58, 6), (255, 4), 'n', 'z', (170, 4), (478, 3), (13, 8), (194, 2), (138, 10), (205, 2), (381, 2), (179, 3), (60, 2), (3, 4), 'u', (229, 3), (307, 5), (433, 5), (307, 3), (246, 2), (96, 2), (57, 2), (303, 2), 'a', (76, 4), (94, 2), (21, 2), 'n', (348, 3), (26, 3), (214, 2), (120, 3), (99, 3), (476, 2), (312, 3), (69, 3), (39, 3), (62, 2), (15, 2), (54, 2), (45, 3), (191, 2), (149, 3), (479, 3), 'i', (212, 4), (205, 3), 'l', (268, 2), 'n', (374, 3), (262, 4), (68, 2), 'o', 'b', (24, 2), (77, 5), (27, 2), 'r', (261, 3), (26, 2), (206, 5), (40, 3), (218, 3), (183, 3), (284, 7), (70, 2), 'g', (427, 3), (317, 3), (13, 2), (183, 3), (93, 2), (161, 2), (436, 3), (228, 4), 'u', 's', (55, 2), (22, 2), 'a', (77, 2), (13, 2), (388, 3), (152, 3), (236, 2), (38, 2), (32, 2), 'g', 'n', (44, 4), (65, 4), (133, 5), (297, 6), (18, 2), (54, 2), 'e', (58, 2), (73, 5), (101, 7), (16, 2), (175, 2), (72, 3), (416, 3), (366, 3), (34, 3), (239, 2), (139, 2), (32, 3), (217, 3), (16, 2), 'c', (167, 2), (11, 2), (249, 2), (298, 2), (72, 5), (172, 4), (490, 4), (170, 3), (46, 3), (492, 4), (137, 2), (28, 2), (197, 3), (396, 3), (31, 2), (92, 3), (46, 3), 'r', (325, 3), (49, 2), 'n', (114, 2), (59, 2), (480, 2), (213, 5), 'r', 'u', 'g', (97, 2), (36, 4), (413, 3), (118, 3), (58, 2), (416, 3), (38, 4), (107, 3), (9, 3), (122, 2), (296, 4), (235, 4), (433, 2), (29, 2), (98, 3), (86, 3), 'p', (30, 2), (207, 2), (437, 2), (164, 6), (206, 3), (142, 3), (197, 4), (84, 2), (210, 2), (159, 3), 'i', (43, 2), (138, 5), (114, 2), (376, 2), (180, 4), (18, 2), (264, 2), (429, 4), (379, 2), (278, 4), (37, 2), (19, 2), (68, 2), (69, 2), (496, 4), (498, 3), (71, 4), 'f', 'i', (279, 3), (373, 4), (443, 3), (188, 3), (63, 3), (270, 3), (295, 2), (13, 2), (267, 2), (313, 4), (101, 2), (89, 3), (74, 3), 'b', (14, 2), (35, 3), (57, 5), (17, 2), (113, 2), (447, 6), (469, 3), (230, 4), (70, 3), 'm', 'u', (100, 3), (17, 3), (239, 2), (373, 5), (37, 2), (166, 2), 'i', (392, 3), (299, 2), (207, 2), (63, 5), 't', (32, 2), (33, 3), (444, 3), 's', (273, 3), (70, 2), 'z', (12, 2), (20, 2), (354, 7), (3, 2), (210, 3), (385, 4), (88, 2), 'r', (188, 4), (104, 2), (130, 2), 'l', (300, 2), (72, 3), (475, 4), (105, 3), (401, 4), (31, 3), (108, 2), (7, 2), (302, 7), (124, 5), (9, 2), (207, 2), (74, 2), (322, 3), (105, 3), (88, 2), (278, 4), (409, 3), (123, 4), (423, 3), (108, 3), (284, 4), (165, 3), 'o', (285, 3), (21, 4), (64, 6), (194, 7), (89, 4), (218, 3), 'l', (454, 2), 'g', (13, 4), (380, 4), (446, 5), (144, 2), (38, 7), (382, 3), (168, 3), (282, 4), (14, 2), (446, 2), (79, 4), (427, 3), 'g', (185, 3), (110, 4), (255, 2), (22, 3), (456, 3), 'u', 'b', (346, 2), (9, 2), (499, 4), (139, 2), (74, 5), (241, 3), (152, 3), 'b', (393, 3), 'g', (190, 3), (280, 5), (16, 3), (196, 3), 'f', (67, 5), (277, 4), (479, 3), (293, 3), (51, 3), (90, 2), 'm', (119, 2), 'a', (14, 2), (204, 3), (406, 4), (224, 3), 'd', (122, 2), (5, 2), 'p', (147, 7), (422, 2), (45, 3), 'o', (107, 2), (252, 2), (14, 4), (96, 3), (505, 3), (318, 3), (58, 2), (168, 2), (184, 2), (250, 3), 'r', (100, 2), (442, 2), (416, 3), (183, 4), (277, 9), (35, 2), (158, 2), (413, 4), (23, 2), (63, 2), (31, 2), (156, 2), (37, 4), (437, 2), (36, 5), (266, 2), (390, 2), (485, 3), 'i', 'c', 'e', (148, 4), (402, 3), (378, 2), (48, 2), (363, 2), (38, 3), (498, 4), (34, 4), (332, 2), (126, 2), (502, 6), (145, 2), (191, 2), (25, 2), (191, 3), (46, 2), (12, 2), (101, 2), (131, 2), (125, 5), (234, 6), 'h', (7, 2), (168, 2), 'b', (249, 2), (109, 3), (420, 2), 'u', 'n']\n",
    "txt_out = LZSS_decode(R)\n",
    "#print(R)\n",
    "print(txt_out)\n",
    "print (txt_out == txt)\n"
   ]
  }
 ],
 "metadata": {
  "kernelspec": {
   "display_name": "Python 3",
   "language": "python",
   "name": "python3"
  },
  "language_info": {
   "codemirror_mode": {
    "name": "ipython",
    "version": 3
   },
   "file_extension": ".py",
   "mimetype": "text/x-python",
   "name": "python",
   "nbconvert_exporter": "python",
   "pygments_lexer": "ipython3",
   "version": "3.11.2"
  },
  "orig_nbformat": 4
 },
 "nbformat": 4,
 "nbformat_minor": 2
}
