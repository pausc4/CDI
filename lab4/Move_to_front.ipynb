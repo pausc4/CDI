{
 "cells": [
  {
   "cell_type": "code",
   "execution_count": 3,
   "metadata": {},
   "outputs": [],
   "source": [
    "def encode_move_to_front(txt):\n",
    "    alf = sorted(list(set(txt)))\n",
    "    code = []\n",
    "    for i in txt:\n",
    "        code.append(alf.index(i))\n",
    "        alf.remove(i)\n",
    "        alf.insert(0, i)\n",
    "    return code\n"
   ]
  },
  {
   "cell_type": "code",
   "execution_count": 4,
   "metadata": {},
   "outputs": [],
   "source": [
    "def decode_move_to_front(cod, alf):\n",
    "    txt = \"\"\n",
    "    for i in cod:\n",
    "        e = alf[i]\n",
    "        txt += e\n",
    "        alf.remove(e)\n",
    "        alf.insert(0, e)\n",
    "    return txt"
   ]
  },
  {
   "cell_type": "code",
   "execution_count": 9,
   "metadata": {},
   "outputs": [
    {
     "name": "stdout",
     "output_type": "stream",
     "text": [
      "[3, 6, 14, 16, 2, 4, 11, 16, 5, 12, 5, 16, 6, 12, 10, 7, 15, 4, 9, 3, 9, 2, 13, 2, 4, 15, 10, 7, 11, 2, 2, 4, 15, 3, 6, 5, 2, 4, 11, 11, 11, 8, 4, 16, 6, 3, 12, 12, 10, 16]\n",
      "oenroyaranoresorrauuusnaeseaoalaaoenyoeyanoennnsyaeaolaaososeaesnseasollolreoossaaasasaaroaassyaoaeyesasosanenaeonyyaaeoeoaolssnrrryenaeraseoeaydooseaeoennlnneleioieasirneaosaloyyaoeeaooaasslleeesslseoeasoaoesaaesayoaooojlndsoalsaossinyodsdeoornsrooneeeaaaasonyyeaoensoenneeaeaseasoasadoonaloosessssrcrbb rllmiinbtssisjiilnm nlid si  b tlnzllllli d  nl inibcjdsjeccdvhhh hr  dddtdjbtzntmppb  uuup  p tjrjbll     c   ftttitttrirbmbc  ru m       tt c dpttttttttiimmnrcp  mdbsccaaaaaamaaa aaa  i m   oia  sl   xnen naennoa oounne  nn           i      eaao  aaaaaaonnurue a                      a    rneeuuaaoinoian    aooaanuddsdudtlusdusuuutlldlddduuuuuduusdluuuddddvddddslsrrrj pmrnlsddt   d      vuc cusssssssir iis  i   ilurlvutnbsc n   vpthppmtlcprrdr rlrcidisr  dfudlrl    o  iilieeii een         sssscbcscllcbcvccdsrrdncttbbvdmmmmmhcmdr slvrr tnmtrrrrrvrcdrrscrcccddummmm ccvoieeaieeeaaeeaeaeeaeeea  e  ll l illall  blaeelallaaociee  aaaa  eeeeeeee   leef                   oocssaa s oeu iaaaaaar   allllloollaaar ieeaaaaeeaaaeioeeeeeaaooeaaoaaouueuuaiuooeieiiioaaoaaa iaie  i ooesoaaaaaaaeuaeooaaiaddrilgdtninlrmdtiiystmndsvdduggymimmillgsddpimiimlmiimrnggrbtttt lssvnccciccidccpcthccppppppplmmcdpddlllllzrllgdddrnlytlslgrlcpmmctppiprcllllllllnrm  ii      mms       ms  s   i                   aiioeeoeoooaiooeeegneeuteeaf   ogobddrb  pppaaaaaaaaueeeeppeeeopoeeaoooaooeaooooeoooooouaooaouoooooooeooaoeeueoeeuoooaoeaoe    e nnnnnnne oaa  ao eiiiauoo  oeeeeiaeueuo        nssnri      s oooooooonnsnel arnnss    ns  ssssccccciiccqqqqqqqqqqqfqqqfqsqbbpgtg    lnccsssapggdlcseeo  iuo  e e                uuuano\n",
      "1610 1610\n",
      "False\n"
     ]
    }
   ],
   "source": [
    "txt1 = \"Setze jutges d'un jutjat mengen fetge d'un penjat.\"\n",
    "\n",
    "T = txt1\n",
    "A = sorted(list(set(T)))\n",
    "\n",
    "E = encode_move_to_front(T)\n",
    "print(E)\n",
    "\n",
    "A = [' ', 'a', 'b', 'c', 'd', 'e', 'f', 'g', 'h', 'i', 'j', 'l', 'm', 'n', 'o', 'p', 'q', 'r', 's', 't', 'u', 'v', 'x', 'y', 'z']\n",
    "E = [14, 6, 14, 17, 3, 23, 6, 3, 1, 4, 4, 3, 5, 19, 3, 3, 0, 5, 21, 0, 0, 4, 6, 3, 6, 3, 1, 2, 6, 1, 17, 1, 0, 2, 3, 5, 8, 3, 3, 2, 4, 4, 4, 4, 2, 0, 0, 6, 5, 5, 4, 1, 5, 6, 2, 0, 2, 5, 1, 1, 4, 3, 1, 2, 6, 1, 2, 3, 2, 4, 5, 0, 1, 1, 8, 5, 3, 0, 4, 0, 5, 0, 0, 1, 1, 1, 1, 0, 4, 3, 2, 0, 3, 0, 7, 2, 3, 1, 5, 3, 1, 4, 3, 1, 4, 1, 2, 7, 4, 1, 2, 2, 4, 3, 5, 0, 4, 0, 4, 4, 1, 1, 2, 1, 7, 6, 0, 6, 7, 0, 0, 7, 7, 3, 7, 2, 4, 2, 5, 3, 7, 1, 3, 6, 12, 4, 0, 5, 5, 5, 1, 3, 1, 7, 0, 8, 1, 0, 2, 2, 1, 16, 4, 1, 2, 5, 6, 3, 9, 7, 5, 5, 6, 6, 2, 7, 3, 9, 0, 3, 2, 5, 0, 2, 2, 0, 1, 0, 5, 0, 5, 0, 4, 0, 0, 2, 0, 2, 1, 2, 4, 1, 4, 3, 3, 2, 1, 3, 3, 3, 0, 2, 2, 2, 5, 4, 2, 1, 0, 0, 17, 6, 7, 10, 7, 5, 6, 5, 3, 2, 3, 2, 0, 10, 6, 8, 4, 7, 5, 1, 9, 3, 0, 10, 6, 5, 2, 3, 0, 3, 4, 0, 0, 8, 0, 0, 0, 5, 4, 4, 7, 0, 5, 5, 4, 2, 4, 5, 3, 3, 3, 0, 1, 0, 4, 1, 1, 4, 2, 2, 2, 4, 2, 2, 1, 7, 3, 0, 5, 3, 9, 3, 0, 5, 6, 1, 0, 0, 0, 8, 14, 1, 14, 0, 14, 2, 7, 0, 18, 13, 0, 11, 6, 21, 9, 0, 4, 1, 15, 2, 0, 7, 6, 7, 9, 2, 3, 4, 14, 4, 7, 3, 2, 0, 9, 1, 9, 6, 7, 24, 2, 0, 0, 0, 0, 6, 5, 8, 1, 0, 5, 4, 2, 4, 3, 1, 7, 12, 11, 7, 10, 2, 13, 4, 0, 4, 23, 21, 0, 0, 10, 1, 15, 2, 0, 4, 0, 0, 14, 1, 8, 10, 3, 14, 13, 2, 15, 22, 0, 5, 8, 0, 20, 0, 0, 3, 2, 0, 1, 1, 5, 8, 10, 1, 6, 17, 0, 5, 0, 0, 0, 0, 14, 1, 0, 0, 21, 7, 0, 0, 18, 1, 0, 0, 8, 2, 1, 7, 11, 1, 7, 7, 0, 4, 11, 2, 5, 1, 0, 0, 0, 0, 0, 0, 7, 0, 1, 5, 1, 14, 12, 4, 0, 0, 0, 0, 0, 0, 0, 9, 0, 6, 0, 13, 9, 8, 6, 8, 0, 5, 8, 10, 18, 6, 0, 20, 0, 0, 0, 0, 0, 5, 1, 0, 0, 6, 1, 0, 0, 1, 0, 10, 1, 3, 1, 0, 0, 20, 3, 4, 3, 0, 6, 15, 2, 0, 0, 24, 13, 21, 1, 3, 1, 6, 3, 2, 0, 8, 3, 4, 2, 0, 16, 4, 0, 5, 4, 0, 2, 0, 1, 0, 0, 0, 0, 0, 0, 0, 0, 0, 0, 9, 1, 0, 0, 0, 0, 0, 3, 6, 0, 6, 3, 0, 2, 0, 0, 0, 0, 0, 2, 5, 0, 6, 15, 1, 6, 6, 6, 1, 0, 0, 0, 0, 0, 0, 0, 0, 0, 0, 0, 0, 0, 0, 0, 0, 0, 0, 0, 0, 0, 1, 1, 0, 0, 0, 4, 5, 4, 0, 5, 0, 5, 0, 6, 7, 5, 2, 2, 3, 3, 7, 0, 0, 0, 2, 4, 0, 1, 0, 3, 5, 14, 0, 11, 1, 2, 1, 16, 12, 3, 4, 4, 2, 2, 1, 0, 0, 4, 4, 0, 4, 1, 1, 0, 0, 3, 0, 0, 0, 0, 1, 1, 0, 4, 2, 3, 3, 0, 0, 2, 0, 0, 0, 21, 1, 0, 0, 0, 4, 4, 1, 12, 0, 0, 19, 11, 18, 16, 4, 11, 7, 7, 8, 0, 11, 8, 0, 0, 2, 1, 0, 0, 0, 0, 0, 10, 11, 17, 3, 1, 2, 6, 0, 0, 0, 0, 0, 0, 15, 10, 5, 2, 0, 3, 2, 0, 2, 1, 0, 0, 1, 9, 5, 5, 2, 7, 3, 9, 10, 18, 9, 10, 10, 4, 1, 0, 0, 7, 13, 7, 21, 2, 0, 14, 3, 11, 8, 4, 12, 0, 14, 1, 9, 1, 5, 1, 5, 14, 5, 1, 12, 4, 6, 0, 4, 20, 15, 2, 8, 5, 1, 5, 0, 0, 0, 18, 1, 0, 8, 0, 3, 1, 19, 0, 1, 0, 3, 2, 0, 16, 2, 0, 0, 0, 0, 0, 0, 0, 0, 10, 0, 0, 0, 11, 17, 1, 2, 1, 7, 0, 1, 3, 1, 17, 1, 0, 11, 5, 11, 0, 2, 8, 4, 15, 0, 7, 0, 7, 5, 16, 0, 0, 0, 0, 17, 6, 2, 3, 8, 11, 10, 11, 8, 4, 0, 4, 10, 11, 8, 2, 4, 0, 0, 0, 0, 5, 1, 9, 9, 2, 0, 9, 3, 2, 1, 0, 0, 3, 0, 15, 7, 0, 0, 0, 9, 4, 0, 7, 15, 15, 15, 0, 19, 2, 2, 0, 0, 2, 0, 1, 0, 1, 1, 1, 1, 0, 1, 1, 0, 0, 1, 6, 0, 2, 1, 0, 14, 0, 1, 1, 1, 4, 2, 0, 4, 1, 0, 3, 0, 16, 2, 3, 5, 0, 2, 2, 1, 0, 1, 0, 6, 8, 7, 5, 0, 7, 0, 5, 0, 0, 0, 1, 0, 2, 0, 0, 0, 0, 0, 0, 0, 1, 0, 0, 6, 2, 0, 17, 3, 0, 0, 0, 0, 0, 0, 0, 0, 0, 0, 0, 0, 0, 0, 0, 0, 0, 0, 7, 0, 7, 14, 0, 7, 0, 4, 2, 1, 4, 6, 12, 3, 9, 6, 0, 0, 0, 0, 0, 14, 3, 0, 0, 2, 10, 0, 0, 0, 0, 7, 0, 1, 0, 2, 0, 0, 4, 4, 5, 7, 0, 4, 0, 0, 0, 1, 0, 1, 0, 0, 1, 2, 6, 2, 0, 0, 0, 0, 3, 0, 2, 0, 2, 2, 0, 2, 1, 0, 1, 7, 0, 3, 1, 0, 3, 4, 2, 4, 0, 4, 3, 1, 1, 0, 0, 2, 4, 0, 1, 1, 0, 0, 5, 3, 2, 1, 4, 3, 0, 2, 1, 4, 0, 3, 8, 2, 5, 0, 0, 0, 0, 0, 0, 3, 6, 2, 2, 3, 0, 2, 0, 6, 1, 14, 0, 8, 3, 9, 23, 4, 16, 17, 5, 1, 5, 6, 17, 6, 6, 6, 0, 23, 13, 3, 5, 8, 6, 4, 18, 2, 0, 14, 11, 0, 8, 7, 9, 1, 0, 1, 11, 0, 4, 8, 7, 0, 20, 5, 6, 1, 0, 1, 6, 1, 2, 0, 1, 12, 11, 8, 0, 2, 19, 13, 0, 0, 0, 17, 8, 11, 0, 14, 8, 18, 0, 0, 11, 1, 0, 1, 13, 2, 0, 13, 1, 9, 20, 2, 0, 3, 0, 0, 0, 0, 0, 0, 9, 14, 0, 3, 6, 4, 1, 0, 4, 0, 0, 0, 0, 23, 14, 2, 0, 15, 4, 0, 0, 3, 11, 4, 16, 11, 2, 14, 1, 7, 6, 2, 10, 10, 11, 0, 2, 7, 3, 0, 13, 1, 6, 4, 6, 0, 0, 0, 0, 0, 0, 0, 10, 3, 7, 15, 0, 7, 0, 1, 0, 0, 0, 0, 0, 2, 0, 10, 2, 0, 0, 0, 0, 0, 0, 2, 2, 2, 0, 1, 1, 0, 0, 3, 1, 0, 0, 0, 0, 0, 0, 0, 0, 0, 0, 0, 0, 0, 0, 0, 0, 0, 0, 18, 2, 0, 19, 20, 0, 1, 1, 1, 0, 0, 3, 3, 2, 0, 3, 0, 0, 13, 9, 2, 0, 20, 14, 2, 0, 7, 21, 9, 0, 0, 8, 8, 1, 21, 18, 0, 14, 2, 5, 0, 17, 0, 0, 8, 0, 0, 0, 0, 0, 0, 0, 11, 10, 0, 0, 0, 3, 0, 1, 0, 0, 8, 2, 1, 2, 0, 4, 2, 0, 0, 1, 1, 0, 2, 2, 2, 0, 0, 0, 2, 1, 0, 0, 0, 0, 0, 4, 3, 2, 0, 1, 1, 2, 1, 0, 0, 0, 0, 0, 0, 3, 1, 0, 3, 1, 2, 0, 3, 1, 2, 1, 0, 2, 2, 0, 0, 3, 1, 3, 2, 2, 2, 5, 0, 0, 0, 1, 1, 12, 0, 0, 0, 0, 0, 0, 2, 2, 3, 4, 0, 2, 0, 1, 2, 2, 3, 13, 0, 0, 4, 6, 5, 0, 5, 0, 1, 5, 0, 0, 0, 5, 5, 2, 5, 1, 1, 4, 5, 0, 0, 0, 0, 0, 0, 0, 6, 14, 0, 1, 10, 8, 4, 0, 0, 0, 0, 0, 4, 1, 5, 0, 0, 0, 0, 0, 0, 0, 5, 0, 3, 1, 7, 16, 5, 9, 8, 5, 0, 6, 0, 4, 0, 0, 0, 2, 2, 2, 0, 1, 0, 0, 0, 17, 0, 0, 0, 0, 9, 0, 1, 0, 24, 0, 0, 0, 0, 0, 0, 0, 0, 0, 0, 16, 1, 0, 0, 1, 1, 4, 1, 14, 0, 14, 16, 17, 1, 9, 0, 0, 0, 13, 11, 10, 0, 9, 0, 0, 13, 8, 7, 0, 17, 7, 6, 6, 15, 0, 16, 10, 0, 15, 17, 3, 3, 0, 4, 1, 1, 1, 0, 0, 0, 0, 0, 0, 0, 0, 0, 0, 0, 0, 0, 0, 0, 3, 0, 0, 11, 12, 5]\n",
    "\n",
    "D = decode_move_to_front(E, A)\n",
    "print(D)\n",
    "print(len(E), len(D))\n",
    "print(D == T)"
   ]
  },
  {
   "cell_type": "code",
   "execution_count": 22,
   "metadata": {},
   "outputs": [
    {
     "ename": "NameError",
     "evalue": "name 'itemgetter' is not defined",
     "output_type": "error",
     "traceback": [
      "\u001b[0;31m---------------------------------------------------------------------------\u001b[0m",
      "\u001b[0;31mNameError\u001b[0m                                 Traceback (most recent call last)",
      "\u001b[1;32m/home/pausc/CDI/lab4/Move_to_front.ipynb Cell 4\u001b[0m in \u001b[0;36m1\n\u001b[1;32m     <a href='vscode-notebook-cell:/home/pausc/CDI/lab4/Move_to_front.ipynb#W3sZmlsZQ%3D%3D?line=14'>15</a>\u001b[0m     S\u001b[39m.\u001b[39mreverse()\n\u001b[1;32m     <a href='vscode-notebook-cell:/home/pausc/CDI/lab4/Move_to_front.ipynb#W3sZmlsZQ%3D%3D?line=15'>16</a>\u001b[0m     \u001b[39mreturn\u001b[39;00m \u001b[39m'\u001b[39m\u001b[39m'\u001b[39m\u001b[39m.\u001b[39mjoin(S)\n\u001b[0;32m---> <a href='vscode-notebook-cell:/home/pausc/CDI/lab4/Move_to_front.ipynb#W3sZmlsZQ%3D%3D?line=17'>18</a>\u001b[0m \u001b[39mprint\u001b[39m(bw_restore(\u001b[39m1084\u001b[39;49m, \u001b[39m\"\u001b[39;49m\u001b[39moenroyaranoresorrauuusnaeseaoalaaoenyoeyanoennnsyaeaolaaososeaesnseasollolreoossaaasasaaroaassyaoaeyesasosanenaeonyyaaeoeoaolssnrrryenaeraseoeaydooseaeoennlnneleioieasirneaosaloyyaoeeaooaasslleeesslseoeasoaoesaaesayoaooojlndsoalsaossinyodsdeoornsrooneeeaaaasonyyeaoensoenneeaeaseasoasadoonaloosessssrcrbb rllmiinbtssisjiilnm nlid si  b tlnzllllli d  nl inibcjdsjeccdvhhh hr  dddtdjbtzntmppb  uuup  p tjrjbll     c   ftttitttrirbmbc  ru m       tt c dpttttttttiimmnrcp  mdbsccaaaaaamaaa aaa  i m   oia  sl   xnen naennoa oounne  nn           i      eaao  aaaaaaonnurue a                      a    rneeuuaaoinoian    aooaanuddsdudtlusdusuuutlldlddduuuuuduusdluuuddddvddddslsrrrj pmrnlsddt   d      vuc cusssssssir iis  i   ilurlvutnbsc n   vpthppmtlcprrdr rlrcidisr  dfudlrl    o  iilieeii een         sssscbcscllcbcvccdsrrdncttbbvdmmmmmhcmdr slvrr tnmtrrrrrvrcdrrscrcccddummmm ccvoieeaieeeaaeeaeaeeaeeea  e  ll l illall  blaeelallaaociee  aaaa  eeeeeeee   leef                   oocssaa s oeu iaaaaaar   allllloollaaar ieeaaaaeeaaaeioeeeeeaaooeaaoaaouueuuaiuooeieiiioaaoaaa iaie  i ooesoaaaaaaaeuaeooaaiaddrilgdtninlrmdtiiystmndsvdduggymimmillgsddpimiimlmiimrnggrbtttt lssvnccciccidccpcthccppppppplmmcdpddlllllzrllgdddrnlytlslgrlcpmmctppiprcllllllllnrm  ii      mms       ms  s   i                   aiioeeoeoooaiooeeegneeuteeaf   ogobddrb  pppaaaaaaaaueeeeppeeeopoeeaoooaooeaooooeoooooouaooaouoooooooeooaoeeueoeeuoooaoeaoe    e nnnnnnne oaa  ao eiiiauoo  oeeeeiaeueuo        nssnri      s oooooooonnsnel arnnss    ns  ssssccccciiccqqqqqqqqqqqfqqqfqsqbbpgtg    lnccsssapggdlcseeo  iuo  e e                uuuano\u001b[39;49m\u001b[39m\"\u001b[39;49m))\n",
      "\u001b[1;32m/home/pausc/CDI/lab4/Move_to_front.ipynb Cell 4\u001b[0m in \u001b[0;36m3\n\u001b[1;32m      <a href='vscode-notebook-cell:/home/pausc/CDI/lab4/Move_to_front.ipynb#W3sZmlsZQ%3D%3D?line=0'>1</a>\u001b[0m \u001b[39mdef\u001b[39;00m \u001b[39mbw_restore\u001b[39m(I, L):\n\u001b[1;32m      <a href='vscode-notebook-cell:/home/pausc/CDI/lab4/Move_to_front.ipynb#W3sZmlsZQ%3D%3D?line=1'>2</a>\u001b[0m     n \u001b[39m=\u001b[39m \u001b[39mlen\u001b[39m(L)\n\u001b[0;32m----> <a href='vscode-notebook-cell:/home/pausc/CDI/lab4/Move_to_front.ipynb#W3sZmlsZQ%3D%3D?line=2'>3</a>\u001b[0m     X \u001b[39m=\u001b[39m \u001b[39msorted\u001b[39m([(i, x) \u001b[39mfor\u001b[39;00m i, x \u001b[39min\u001b[39;00m \u001b[39menumerate\u001b[39m(L)], key\u001b[39m=\u001b[39mitemgetter(\u001b[39m1\u001b[39m))\n\u001b[1;32m      <a href='vscode-notebook-cell:/home/pausc/CDI/lab4/Move_to_front.ipynb#W3sZmlsZQ%3D%3D?line=4'>5</a>\u001b[0m     T \u001b[39m=\u001b[39m [\u001b[39mNone\u001b[39;00m \u001b[39mfor\u001b[39;00m i \u001b[39min\u001b[39;00m \u001b[39mrange\u001b[39m(n)]\n\u001b[1;32m      <a href='vscode-notebook-cell:/home/pausc/CDI/lab4/Move_to_front.ipynb#W3sZmlsZQ%3D%3D?line=5'>6</a>\u001b[0m     \u001b[39mfor\u001b[39;00m i, y \u001b[39min\u001b[39;00m \u001b[39menumerate\u001b[39m(X):\n",
      "\u001b[0;31mNameError\u001b[0m: name 'itemgetter' is not defined"
     ]
    }
   ],
   "source": [
    "from operator import itemgetter\n",
    "\n",
    "def bw_restore(I, L):\n",
    "    n = len(L)\n",
    "    X = sorted([(i, x) for i, x in enumerate(L)], key=itemgetter(1))\n",
    "\n",
    "    T = [None for i in range(n)]\n",
    "    for i, y in enumerate(X):\n",
    "        j, _ = y\n",
    "        T[j] = i\n",
    "\n",
    "    Tx = [I]\n",
    "    for i in range(1, n):\n",
    "        Tx.append(T[Tx[i-1]])\n",
    "\n",
    "    S = [L[i] for i in Tx]\n",
    "    S.reverse()\n",
    "    return ''.join(S)\n",
    "\n",
    "print(bw_restore(1084, \"oenroyaranoresorrauuusnaeseaoalaaoenyoeyanoennnsyaeaolaaososeaesnseasollolreoossaaasasaaroaassyaoaeyesasosanenaeonyyaaeoeoaolssnrrryenaeraseoeaydooseaeoennlnneleioieasirneaosaloyyaoeeaooaasslleeesslseoeasoaoesaaesayoaooojlndsoalsaossinyodsdeoornsrooneeeaaaasonyyeaoensoenneeaeaseasoasadoonaloosessssrcrbb rllmiinbtssisjiilnm nlid si  b tlnzllllli d  nl inibcjdsjeccdvhhh hr  dddtdjbtzntmppb  uuup  p tjrjbll     c   ftttitttrirbmbc  ru m       tt c dpttttttttiimmnrcp  mdbsccaaaaaamaaa aaa  i m   oia  sl   xnen naennoa oounne  nn           i      eaao  aaaaaaonnurue a                      a    rneeuuaaoinoian    aooaanuddsdudtlusdusuuutlldlddduuuuuduusdluuuddddvddddslsrrrj pmrnlsddt   d      vuc cusssssssir iis  i   ilurlvutnbsc n   vpthppmtlcprrdr rlrcidisr  dfudlrl    o  iilieeii een         sssscbcscllcbcvccdsrrdncttbbvdmmmmmhcmdr slvrr tnmtrrrrrvrcdrrscrcccddummmm ccvoieeaieeeaaeeaeaeeaeeea  e  ll l illall  blaeelallaaociee  aaaa  eeeeeeee   leef                   oocssaa s oeu iaaaaaar   allllloollaaar ieeaaaaeeaaaeioeeeeeaaooeaaoaaouueuuaiuooeieiiioaaoaaa iaie  i ooesoaaaaaaaeuaeooaaiaddrilgdtninlrmdtiiystmndsvdduggymimmillgsddpimiimlmiimrnggrbtttt lssvnccciccidccpcthccppppppplmmcdpddlllllzrllgdddrnlytlslgrlcpmmctppiprcllllllllnrm  ii      mms       ms  s   i                   aiioeeoeoooaiooeeegneeuteeaf   ogobddrb  pppaaaaaaaaueeeeppeeeopoeeaoooaooeaooooeoooooouaooaouoooooooeooaoeeueoeeuoooaoeaoe    e nnnnnnne oaa  ao eiiiauoo  oeeeeiaeueuo        nssnri      s oooooooonnsnel arnnss    ns  ssssccccciiccqqqqqqqqqqqfqqqfqsqbbpgtg    lnccsssapggdlcseeo  iuo  e e                uuuano\"))"
   ]
  }
 ],
 "metadata": {
  "kernelspec": {
   "display_name": "Python 3",
   "language": "python",
   "name": "python3"
  },
  "language_info": {
   "codemirror_mode": {
    "name": "ipython",
    "version": 3
   },
   "file_extension": ".py",
   "mimetype": "text/x-python",
   "name": "python",
   "nbconvert_exporter": "python",
   "pygments_lexer": "ipython3",
   "version": "3.11.2"
  },
  "orig_nbformat": 4
 },
 "nbformat": 4,
 "nbformat_minor": 2
}
