{
 "cells": [
  {
   "cell_type": "code",
   "execution_count": 6,
   "metadata": {},
   "outputs": [
    {
     "data": {
      "text/plain": [
       "0"
      ]
     },
     "execution_count": 6,
     "metadata": {},
     "output_type": "execute_result"
    }
   ],
   "source": [
    "from math import log2\n",
    "\n",
    "\n",
    "quijote = open(\"quijote_clean.txt\").read()\n",
    "\n",
    "def entropy(txt, k, pre):\n",
    "    src = {} # diccionari per a les freqüències de cada agrupació de lletres\n",
    "    total_chars = 0\n",
    "    for i in range(len(txt)-k+1):\n",
    "        substr = txt[i:i+k]\n",
    "        if substr in src:\n",
    "            src[substr] += 1\n",
    "        else:\n",
    "            src[substr] = 1\n",
    "        total_chars += 1\n",
    "\n",
    "    H = 0\n",
    "    for i in src.items():\n",
    "        #print(i[0][0])\n",
    "        if (i[0] == pre):\n",
    "            #print(i)\n",
    "            prob = i[1] / total_chars\n",
    "            H += prob * log2(prob)\n",
    "\n",
    "    return(-H)\n",
    "        \n",
    "#entropy(txt, 3)\n",
    "#[entropy(quijote,k) for k in range(1,5)]\n",
    "entropy(quijote,1,\"\")\n"
   ]
  }
 ],
 "metadata": {
  "kernelspec": {
   "display_name": "Python 3",
   "language": "python",
   "name": "python3"
  },
  "language_info": {
   "codemirror_mode": {
    "name": "ipython",
    "version": 3
   },
   "file_extension": ".py",
   "mimetype": "text/x-python",
   "name": "python",
   "nbconvert_exporter": "python",
   "pygments_lexer": "ipython3",
   "version": "3.10.7"
  },
  "orig_nbformat": 4,
  "vscode": {
   "interpreter": {
    "hash": "916dbcbb3f70747c44a77c7bcd40155683ae19c65e1c03b4aa3499c5328201f1"
   }
  }
 },
 "nbformat": 4,
 "nbformat_minor": 2
}
