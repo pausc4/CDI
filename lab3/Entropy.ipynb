{
 "cells": [
  {
   "cell_type": "code",
   "execution_count": 1,
   "metadata": {},
   "outputs": [
    {
     "data": {
      "text/plain": [
       "[1.6584141566767923]"
      ]
     },
     "execution_count": 1,
     "metadata": {},
     "output_type": "execute_result"
    }
   ],
   "source": [
    "from math import log2\n",
    "\n",
    "quijote = open(\"quijote_clean.txt\").read()\n",
    "\n",
    "def entropy(txt, k, pre):\n",
    "    src = {} # diccionari per a les freqüències de cada agrupació de lletres\n",
    "    total_chars = 0\n",
    "    for i in range(len(txt)-k+1):\n",
    "        if (txt[i:i+len(pre)] == pre):\n",
    "            i += len(pre)\n",
    "            substr = txt[i:i+k]\n",
    "            if substr in src:\n",
    "                src[substr] += 1\n",
    "            else:\n",
    "                src[substr] = 1\n",
    "            total_chars += 1\n",
    "    H = 0\n",
    "    for i in src.items():\n",
    "        prob = i[1] / total_chars\n",
    "        H += prob * log2(prob)\n",
    "\n",
    "    return(-H)\n",
    "\n",
    "[entropy(quijote,2,\"lgu\")]"
   ]
  },
  {
   "cell_type": "code",
   "execution_count": 59,
   "metadata": {},
   "outputs": [
    {
     "data": {
      "text/plain": [
       "[3.9688875658964196, 7.004395616708034, 9.58395130083852, 11.723763678102449]"
      ]
     },
     "execution_count": 59,
     "metadata": {},
     "output_type": "execute_result"
    }
   ],
   "source": [
    "from math import log2\n",
    "\n",
    "\n",
    "quijote = open(\"quijote_clean.txt\").read()\n",
    "\n",
    "def entropy(txt, k):\n",
    "    src = {} # diccionari per a les freqüències de cada agrupació de lletres\n",
    "    total_chars = 0\n",
    "    for i in range(len(txt)-k+1):\n",
    "        substr = txt[i:i+k]\n",
    "        if substr in src:\n",
    "            src[substr] += 1\n",
    "        else:\n",
    "            src[substr] = 1\n",
    "        total_chars += 1\n",
    "\n",
    "    H = 0\n",
    "    for i in src.items():\n",
    "        prob = i[1] / total_chars\n",
    "        H += prob * log2(prob)\n",
    "\n",
    "    return(-H)\n",
    "\n",
    "[entropy(quijote,k) for k in range(1,5)]\n"
   ]
  }
 ],
 "metadata": {
  "kernelspec": {
   "display_name": "Python 3",
   "language": "python",
   "name": "python3"
  },
  "language_info": {
   "codemirror_mode": {
    "name": "ipython",
    "version": 3
   },
   "file_extension": ".py",
   "mimetype": "text/x-python",
   "name": "python",
   "nbconvert_exporter": "python",
   "pygments_lexer": "ipython3",
   "version": "3.10.7"
  },
  "orig_nbformat": 4
 },
 "nbformat": 4,
 "nbformat_minor": 2
}
