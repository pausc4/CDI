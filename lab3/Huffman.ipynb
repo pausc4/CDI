{
 "cells": [
  {
   "cell_type": "code",
   "execution_count": 14,
   "metadata": {},
   "outputs": [],
   "source": [
    "import math\n",
    "\n",
    "def comprovacio (list, q):\n",
    "    sum = 0\n",
    "    for i in list:\n",
    "        sum += (q**-i)\n",
    "    if sum <= 1: \n",
    "        return True\n",
    "    else: \n",
    "        return False"
   ]
  },
  {
   "cell_type": "code",
   "execution_count": 15,
   "metadata": {},
   "outputs": [],
   "source": [
    "def dec2alf(aux, q, alf, l):    \n",
    "    sol = \"\"\n",
    "    while aux > 0:\n",
    "        n = aux % q\n",
    "        sol = str(alf[n])+ sol\n",
    "        aux = math.floor(aux/q)\n",
    "    while len(sol) < l:\n",
    "        sol = str(alf[0]) + sol\n",
    "    return sol"
   ]
  },
  {
   "cell_type": "code",
   "execution_count": 16,
   "metadata": {},
   "outputs": [],
   "source": [
    "def canonical_code (list, q, alf = []):\n",
    "    list_copia = list.copy()\n",
    "    if comprovacio(list, q):\n",
    "        list_copia.sort()\n",
    "        sol = []\n",
    "        pre = 0\n",
    "        aux = 0\n",
    "        for i in list_copia:\n",
    "            if pre != 0 and pre != i:\n",
    "                aux = (q **(i - pre)) * aux\n",
    "            pre = i\n",
    "            sol.append(dec2alf(aux, q, alf, i))\n",
    "            aux += 1\n",
    "        sol_ordenat = []\n",
    "        trobat = False\n",
    "        for i in list:\n",
    "            for j in sol:\n",
    "                if i == len(j) and not trobat:\n",
    "                    sol_ordenat.append(j)\n",
    "                    sol.remove(j)\n",
    "                    trobat = True\n",
    "            trobat = False\n",
    "        return sol_ordenat\n",
    "    else: \n",
    "        return list(-1)"
   ]
  },
  {
   "cell_type": "code",
   "execution_count": 17,
   "metadata": {},
   "outputs": [],
   "source": [
    "def completar_nivel_grupo(p, k, code):\n",
    "    aux = \"\"\n",
    "    for i in range(0,len(p),k):\n",
    "        for j in range(k):\n",
    "            aux = aux+p[i+j]\n",
    "        code.update({aux: code.get(aux)+1})\n",
    "        aux = \"\"\n",
    "    return code"
   ]
  },
  {
   "cell_type": "code",
   "execution_count": 18,
   "metadata": {},
   "outputs": [],
   "source": [
    "def source_fromcode(txt, k):\n",
    "    src = {}\n",
    "    total_chars = 0\n",
    "    for i in range(len(txt)-k+1):\n",
    "        substr = txt[i:i+k]\n",
    "        if substr in src:\n",
    "            src[substr] += 1\n",
    "        else:\n",
    "            src[substr] = 1\n",
    "        total_chars += 1\n",
    "\n",
    "    return sorted(src.items())"
   ]
  },
  {
   "cell_type": "code",
   "execution_count": 19,
   "metadata": {},
   "outputs": [],
   "source": [
    "def mean_length(src,code):\n",
    "    total = 0\n",
    "    ML = 0\n",
    "    for i in src:\n",
    "        total += i[1]\n",
    "    t = len(src)\n",
    "    for i in range(0, t):\n",
    "        ML += src[i][1] / total * len(code[i][1])\n",
    "    return ML"
   ]
  },
  {
   "cell_type": "code",
   "execution_count": 20,
   "metadata": {},
   "outputs": [],
   "source": [
    "def huffman_code(src, k):\n",
    "    total = 0\n",
    "    huf = {}\n",
    "    for i in src:\n",
    "        total += i[1]\n",
    "        huf.update({i[0]: 0}) \n",
    "    while len(src) > 1:\n",
    "        e_min = -1\n",
    "        v_min = total\n",
    "        e_min2 = -1\n",
    "        v_min2 = total\n",
    "        for i in range(len(src)):\n",
    "            if src[i][1] < v_min:\n",
    "                if v_min2 > v_min:\n",
    "                    v_min2 = v_min\n",
    "                    e_min2 = e_min\n",
    "                v_min = src[i][1]\n",
    "                e_min = i\n",
    "            if src[i][1] < v_min2 and  e_min != i:\n",
    "                v_min2 = src[i][1]\n",
    "                e_min2 = i\n",
    "\n",
    "        completar_nivel_grupo(src[e_min][0], k, huf)\n",
    "        completar_nivel_grupo(src[e_min2][0], k, huf)\n",
    "\n",
    "        src += [(src[e_min][0]+src[e_min2][0], src[e_min][1]+src[e_min2][1])]\n",
    "        src.pop(e_min)\n",
    "        if e_min < e_min2:\n",
    "            src.pop(e_min2-1)\n",
    "        else:\n",
    "            src.pop(e_min2)\n",
    "    can = canonical_code(list(huf.values()), 2, [0, 1])\n",
    "    code = {}\n",
    "    huf = list(huf)\n",
    "    for i in range(len(huf)):\n",
    "        code.update({huf[i]: can[i]})\n",
    "    return code"
   ]
  },
  {
   "cell_type": "code",
   "execution_count": 21,
   "metadata": {},
   "outputs": [],
   "source": [
    "def huffman_encode(txt, k):\n",
    "    #src = source_fromcode(txt, k)\n",
    "    src =  [(' ', 72190), ('a', 23858), ('b', 5017), ('c', 6697), ('d', 15027), ('e', 36243), ('f', 6113), ('g', 6699), ('h', 19838), ('i', 19165), ('j', 662), ('k', 3070), ('l', 12294), ('m', 7309), ('n', 20475), ('o', 23601), ('p', 4825), ('q', 180), ('r', 15584), ('s', 18060), ('t', 29363), ('u', 9107), ('v', 2433), ('w', 8111), ('x', 412), ('y', 6809), ('z', 158)]\n",
    "    code = huffman_code(src, k)\n",
    "    coded = \"\"\n",
    "    for i in range (0, len(txt), k):\n",
    "        aux = txt[i:i+k]\n",
    "        coded += code[aux]\n",
    "    return coded"
   ]
  },
  {
   "cell_type": "code",
   "execution_count": 26,
   "metadata": {},
   "outputs": [],
   "source": [
    "def huffman_decode(code, coded):\n",
    "    decode = {}\n",
    "    for i in code:\n",
    "        decode.update({code[i]: i})\n",
    "    c = \"\"\n",
    "    txt = \"\"\n",
    "    for i in coded:\n",
    "        c += i\n",
    "        if c in decode:\n",
    "            txt += decode[c]\n",
    "            c = \"\"\n",
    "    return txt"
   ]
  },
  {
   "cell_type": "code",
   "execution_count": 29,
   "metadata": {},
   "outputs": [
    {
     "name": "stdout",
     "output_type": "stream",
     "text": [
      "just tell a boy you wont ever have anybody but him ever ever ever and then you kiss and thats all anybody can do it kiss what do you kiss for why that you know is to well they always do that everybody why yes everybody thats in love with each other do you remember what i wrote on the slate ye yes what was it i shant tell you shall i tell you ye yes but some other time no now no not now to morrow oh no now please becky ill whisper it ill whisper it ever so easy becky hesitating tom took silence for consent and passed\n"
     ]
    }
   ],
   "source": [
    "txt = \"these with his red keel one he rolled up and put in his jacket pocket and the other he put in joes hat and removed it to a little distance from the owner and he also put into the hat certain schoolboy treasures of almost inestimable value among them a lump of chalk an india rubber ball three fishhooks and one of that kind of marbles known as a sure nough crystal then he tiptoed his way cautiously among the trees till he felt that he was out of hearing and straightway broke into a keen run in the direction of the sandbar chapter xv a few minutes later tom was in the shoal water of the\"\n",
    "src = [(' ', 72190), ('a', 23858), ('b', 5017), ('c', 6697), ('d', 15027), ('e', 36243), ('f', 6113), ('g', 6699), ('h', 19838), ('i', 19165), ('j', 662), ('k', 3070), ('l', 12294), ('m', 7309), ('n', 20475), ('o', 23601), ('p', 4825), ('q', 180), ('r', 15584), ('s', 18060), ('t', 29363), ('u', 9107), ('v', 2433), ('w', 8111), ('x', 412), ('y', 6809), ('z', 158)]\n",
    "k = 1\n",
    "\n",
    "src = [(' ', 72190), ('a', 23858), ('b', 5017), ('c', 6697), ('d', 15027), ('e', 36243), ('f', 6113), ('g', 6699), ('h', 19838), ('i', 19165), ('j', 662), ('k', 3070), ('l', 12294), ('m', 7309), ('n', 20475), ('o', 23601), ('p', 4825), ('q', 180), ('r', 15584), ('s', 18060), ('t', 29363), ('u', 9107), ('v', 2433), ('w', 8111), ('x', 412), ('y', 6809), ('z', 158)] \n",
    "H = \"111111110111100101010110010110101110011100100010000110110100111111000111110100111110000111101100110001011000101111111100101110100001100100111111100101000100100011111011011010011100011111000110110111100101100011001111110100001011111111001011101000010111111110010111010000101111111100101110100001001000110000010110110010110000011111010011111000011111100111101010100001001000110000010110110010010111010000100110011100100010010001111101101101001110001111100011011101001000001100010010001111011001111110011110101010001111010110010010110011000100100111110100111110000111111001111010101000111000100111010001111010110111110001011011001001011001111101001111100001111110100010011111010001111010001011100100111101010111001110010010110110010111111000010011001111101010011111010100011000100100101101100100101100010111111110010111010111110110110100111000111110001111010110111110001111100101101000010111111110010111010111110110110100111000111110001011011001001011101000011110000011001100111111110010100111101011110110110000101010011011101100010011011011001011101000110001001001111101001111100001101001011110100101111010110110010111010001111010110010010110001110011110111010100110110101001001100000101101100101001010110010100101101010011111001010011111001011010001111010110010010110011110101001010000111101100011100101001100100100010110010110101110011100100111110100111110000101001100100110011100100011100101101011100111001001111101001111100001111100101001111100101101000110110111100101100101010011110100101001001101101100101110100010110111111010010100100010010010001001111101001000100100100010011011001000100111110100101110010011101010011101011010100111110100100101100010001001001000100111110100111011110010101010010100101001101100101110111111111011111000011111001110010011110101100111101011101101011101000011110110001111100111001001111010110011110101110110101110100001111011000101111111100101110100010101001000101010010101111100011011001011101111111110111110000110010110100111101101001011011110001110010010111001111010001011100110011111110001010011111001010110001101110101001110001001110100011011110011000101001011000101100010010001100000111011010010101010010111000\"\n",
    "k = 1\n",
    "#huffman_encode(txt, k), torna el codi en binari\n",
    "#huffman_code(src, k), torna el codi font\n",
    "#huffman_decode(C, H, k), decodifica\n",
    "#H = huffman_encode(txt, k)\n",
    "#print(H)\n",
    "C = huffman_code(src, k)\n",
    "#print(C)\n",
    "D = huffman_decode(C, H)\n",
    "D == txt\n",
    "print(D)\n"
   ]
  }
 ],
 "metadata": {
  "kernelspec": {
   "display_name": "Python 3",
   "language": "python",
   "name": "python3"
  },
  "language_info": {
   "codemirror_mode": {
    "name": "ipython",
    "version": 3
   },
   "file_extension": ".py",
   "mimetype": "text/x-python",
   "name": "python",
   "nbconvert_exporter": "python",
   "pygments_lexer": "ipython3",
   "version": "3.10.7"
  },
  "orig_nbformat": 4
 },
 "nbformat": 4,
 "nbformat_minor": 2
}
