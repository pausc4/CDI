{
 "cells": [
  {
   "cell_type": "code",
   "execution_count": 191,
   "metadata": {},
   "outputs": [],
   "source": [
    "corr = {\"a\":\"11111\",\"b\":\"11110\", \"c\":\"11101\", \"d\":\"11100\", \"e\":\"11011\", \"f\":\"11010\", \"g\":\"11001\", \"h\":\"11000\", \"i\":\"10111\", \"j\":\"10110\", \"k\":\"10101\", \"l\":\"10100\", \"m\":\"10011\", \"n\":\"10010\", \"o\":\"10001\", \"p\":\"10000\", \"q\":\"01111\", \"u\":\"01110\", \"r\":\"01101\", \"s\":\"01100\", \"t\":\"01011\", \"v\":\"01010\", \"w\":\"01001\",\"x\":\"01000\", \"y\":\"00111\", \"z\":\"00110\", \" \": \"00000\"}\n",
    "txta = [\"en aquest poblet no hi tinc casa propia ni llogada ni una llenqueta de terra ni una tomaquera tan sols no m hi lliga cap interes material per petit que sigui aixo es causa que el seu record no faci trontollar el meu egoisme ni em treu la son el presseguer exposat a la golafreria publica ni el mestre de cases que no fineix mai la paret del galliner\"]"
   ]
  },
  {
   "cell_type": "code",
   "execution_count": 192,
   "metadata": {},
   "outputs": [],
   "source": [
    "def encode (txt, corr):\n",
    "    coded = \"\"\n",
    "    for i in txt:\n",
    "        for j in i:\n",
    "            coded += corr[j]\n",
    "    return coded"
   ]
  },
  {
   "cell_type": "code",
   "execution_count": 193,
   "metadata": {},
   "outputs": [],
   "source": [
    "def decode (txt, corr):\n",
    "    decoded = \"\"\n",
    "    word = \"\"\n",
    "    k = 0\n",
    "    for i in txt:\n",
    "        for j in i:\n",
    "            if k < 4:\n",
    "                word += j\n",
    "                k += 1\n",
    "            else:\n",
    "                word += j\n",
    "                for clave in corr:\n",
    "                    if corr[clave] == word:\n",
    "                        decoded += clave\n",
    "                word = \"\"\n",
    "                k = 0\n",
    "    return decoded "
   ]
  },
  {
   "cell_type": "code",
   "execution_count": 194,
   "metadata": {},
   "outputs": [
    {
     "name": "stdout",
     "output_type": "stream",
     "text": [
      "11011100100000011111011110111011011011000101100000100001000111110101001101101011000001001010001000001100010111000000101110111100101110100000111011111101100111110000010000011011000110000101111111100000100101011100000101001010010001110011111111100111110000010010101110000001110100101111100000101001010011011100100111101110110110101111111000001110011011000000101111011011010110111111000001001010111000000111010010111110000001011100011001111111011110111011011011011111100000010111111110010000000110010001101000110000000100101000100000100110000011000101110000010100101001011111001111110000011101111111000000000101111001001011110110110111011011000000010011111110101111011011011011111111101000000010000110110110100000100001101101011101110101100000011110111011011000000110010111110010111010111000001111110111010001000100000110110110000000111011111101110011001111100000011110111011011000001101110100000000110011011011100000001101110111110110001011011110000000100101000100000110101111111101101110000001011011011000110010010111000110100101001111101101000001101110100000001001111011011100000011011110011000110111011001001111011000001001010111000001101110011000000101101101110110111000000101001111100000011001000110010000001101110100000001000001101110110110001100110111100101110110110110100000110110100010000100010110011111010110000011111000001010011111000001100110001101001111111010011011101101101101111111100000100000111011110101001011111101111110000010010101110000011011101000000010011110110110001011011011101100000111001101100000111011111101100110110110000000011110111011011000001001010001000001101010111100101101110111010000000010011111111011100000101001111100000100001111101101110110101100000111001101110100000001100111111101001010010111100101101101101\n",
      "en aquest poblet no hi tinc casa propia ni llogada ni una llenqueta de terra ni una tomaquera tan sols no m hi lliga cap interes material per petit que sigui aixo es causa que el seu record no faci trontollar el meu egoisme ni em treu la son el presseguer exposat a la golafreria publica ni el mestre de cases que no fineix mai la paret del galliner\n"
     ]
    }
   ],
   "source": [
    "encoded = encode(txta, corr)\n",
    "print(encoded)\n",
    "decoded = decode(encoded, corr)\n",
    "print(decoded)"
   ]
  },
  {
   "cell_type": "code",
   "execution_count": null,
   "metadata": {},
   "outputs": [],
   "source": []
  }
 ],
 "metadata": {
  "kernelspec": {
   "display_name": "Python 3",
   "language": "python",
   "name": "python3"
  },
  "language_info": {
   "codemirror_mode": {
    "name": "ipython",
    "version": 3
   },
   "file_extension": ".py",
   "mimetype": "text/x-python",
   "name": "python",
   "nbconvert_exporter": "python",
   "pygments_lexer": "ipython3",
   "version": "3.10.7"
  },
  "orig_nbformat": 4,
  "vscode": {
   "interpreter": {
    "hash": "916dbcbb3f70747c44a77c7bcd40155683ae19c65e1c03b4aa3499c5328201f1"
   }
  }
 },
 "nbformat": 4,
 "nbformat_minor": 2
}
