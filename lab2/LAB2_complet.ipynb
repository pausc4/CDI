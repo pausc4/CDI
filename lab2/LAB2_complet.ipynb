{
 "cells": [
  {
   "cell_type": "code",
   "execution_count": 27,
   "metadata": {},
   "outputs": [],
   "source": [
    "txt_cat = open(\"quijote_clean.txt\").read()\n",
    "\n",
    "def source_fromtext(txt):\n",
    "    aparicions = {}\n",
    "    for i in txt:\n",
    "        for j in i:\n",
    "            if (aparicions.get(j)):\n",
    "                aparicions.update({j:aparicions.get(j)+1})\n",
    "            else:\n",
    "                aparicions.update({j:1})\n",
    "    aparicions = dict(sorted(aparicions.items()))\n",
    "    return aparicions"
   ]
  },
  {
   "cell_type": "code",
   "execution_count": 28,
   "metadata": {},
   "outputs": [],
   "source": [
    "import math\n",
    "\n",
    "def dec2alf(aux, q, alf, l):    \n",
    "    sol = \"\"\n",
    "    while aux > 0:\n",
    "        n = aux % q\n",
    "        sol = str(alf[n])+ sol\n",
    "        aux = math.floor(aux/q)\n",
    "    while len(sol) < l:\n",
    "        sol = str(alf[0]) + sol\n",
    "    return sol\n",
    " \n",
    "def comprovacio (list, q):\n",
    "    sum = 0\n",
    "    for i in list:\n",
    "        sum += (q**-i)\n",
    "    if sum <= 1: \n",
    "        return True\n",
    "    else: \n",
    "        return False\n",
    "    \n",
    "\n",
    "def canonical_code (list, q, alf = []):\n",
    "    list_copia = list.copy()\n",
    "    if comprovacio(list, q):\n",
    "        list_copia.sort()\n",
    "        sol = []\n",
    "        pre = 0\n",
    "        aux = 0\n",
    "        for i in list_copia:\n",
    "            if pre != 0 and pre != i:\n",
    "                aux = (q **(i - pre)) * aux\n",
    "            pre = i\n",
    "            sol.append(dec2alf(aux, q, alf, i))\n",
    "            #sol.append(format(aux, 'b').fill(i))\n",
    "            aux += 1\n",
    "        sol_ordenat = []\n",
    "        trobat = False\n",
    "        for i in list:\n",
    "            for j in sol:\n",
    "                if i == len(j) and not trobat:\n",
    "                    sol_ordenat.append(j)\n",
    "                    sol.remove(j)\n",
    "                    trobat = True\n",
    "            trobat = False\n",
    "        return sol_ordenat\n",
    "\n",
    "    else: \n",
    "        print('Les longituds no satisfan Kraft: no existeix cap codi')\n",
    "        return []\n",
    "\n",
    "\n",
    "\n",
    "from math import ceil, log2\n",
    "\n",
    "\n",
    "def shannon_code(src):\n",
    "    w = 0\n",
    "    p = []\n",
    "    for i in src.values():\n",
    "        w += i\n",
    "    for i in src.values():\n",
    "        if i != 0:\n",
    "            p.append(ceil(-log2(i/w)))\n",
    "\n",
    "    #print(p)\n",
    "    p = canonical_code(p, 2, [0,1])\n",
    "    return p\n",
    "\n"
   ]
  },
  {
   "cell_type": "code",
   "execution_count": 29,
   "metadata": {},
   "outputs": [],
   "source": [
    "def encode (txt, corr):\n",
    "    coded = \"\"\n",
    "    for i in txt:\n",
    "        for j in i:\n",
    "            coded += corr.get(j)\n",
    "    return coded\n",
    "\n",
    "def decode (txt, corr):\n",
    "    corr = {value: key for key, value in corr.items()}\n",
    "    decoded = \"\"\n",
    "    word = \"\"\n",
    "    for j in txt:\n",
    "        word += j\n",
    "        clave = corr.get(word)\n",
    "        \n",
    "        if (clave):\n",
    "            decoded += clave\n",
    "            word = \"\"\n",
    "            \n",
    "    return decoded "
   ]
  },
  {
   "cell_type": "code",
   "execution_count": 33,
   "metadata": {},
   "outputs": [
    {
     "name": "stdout",
     "output_type": "stream",
     "text": [
      "{' ': 1877, '!': 1, \"'\": 4, ',': 212, '-': 5, '.': 37, ':': 6, ';': 21, '?': 1, 'A': 10, 'B': 4, 'C': 8, 'D': 6, 'E': 7, 'F': 4, 'G': 6, 'H': 2, 'I': 2, 'L': 6, 'M': 8, 'N': 2, 'O': 1, 'P': 6, 'Q': 9, 'R': 5, 'S': 3, 'T': 6, 'U': 1, 'Y': 6, 'a': 1017, 'b': 175, 'c': 302, 'd': 427, 'e': 1067, 'f': 46, 'g': 80, 'h': 92, 'i': 358, 'j': 34, 'l': 498, 'm': 230, 'n': 550, 'o': 734, 'p': 149, 'q': 132, 'r': 508, 's': 571, 't': 267, 'u': 391, 'v': 68, 'x': 2, 'y': 122, 'z': 34, '¡': 1, '¿': 1, 'á': 31, 'é': 29, 'í': 95, 'ñ': 18, 'ó': 62, 'ú': 7, 'ü': 1}\n",
      "['000', '10101111011000', '101011101110', '100010', '101011101111', '101010100', '10101101010', '101010101', '10101111011001', '10101101011', '101011110000', '10101101100', '10101101101', '10101101110', '101011110001', '10101101111', '1010111101000', '1010111101001', '10101110000', '10101110001', '1010111101010', '10101111011010', '10101110010', '10101110011', '101011110010', '101011110011', '10101110100', '10101111011011', '10101110101', '0010', '100011', '100100', '01010', '0011', '10100110', '10100111', '1001110', '01011', '101010110', '01100', '100101', '01101', '0100', '1001111', '1010000', '01110', '01111', '100110', '10000', '10101000', '1010111101011', '1010001', '101010111', '10101111011100', '10101111011101', '101011000', '101011001', '1010010', '1010110100', '10101001', '10101110110', '10101111011110']\n",
      "a tanto su curiosidad y desatino en esto, que vendió muchas hanegas de tierra de sembradura para comprar libros de caballerías en que leer, y así, llevó a su casa todos cuantos pudo haber dellos; y de todos, ningunos le parecían tan bien como los que compuso el famoso Feliciano de Silva, porque la claridad de su prosa y aquellas entricadas razones suyas le parecían de perlas, y más cuando llegaba a leer aquellos requiebros y cartas de desafíos, donde en muchas partes hallaba escrito: La razón de la sinrazón que a mi razón se hace, de tal manera mi razón enflaquece, que con razón me quejo de la vuestra fermosura. Y también cuando leía: ...los altos cielos que de vuestra divinidad divinamente con las estrellas os fortifican, y os hacen merecedora del merecimiento que merece la vuestra grandeza. Con estas razones perdía el pobre caballero el juicio, y desvelábase por entenderlas y desentrañarles el sentido, que no se lo sacara ni las entendiera el mesmo Aristóteles, si\n"
     ]
    }
   ],
   "source": [
    "src = {}\n",
    "\n",
    "src = dict([(' ', 1877), ('!', 1), (\"'\", 4), (',', 212), ('-', 5), ('.', 37), (':', 6), (';', 21), ('?', 1), ('A', 10), ('B', 4), ('C', 8), ('D', 6), ('E', 7), ('F', 4), ('G', 6), ('H', 2), ('I', 2), ('L', 6), ('M', 8), ('N', 2), ('O', 1), ('P', 6), ('Q', 9), ('R', 5), ('S', 3), ('T', 6), ('U', 1), ('Y', 6), ('a', 1017), ('b', 175), ('c', 302), ('d', 427), ('e', 1067), ('f', 46), ('g', 80), ('h', 92), ('i', 358), ('j', 34), ('l', 498), ('m', 230), ('n', 550), ('o', 734), ('p', 149), ('q', 132), ('r', 508), ('s', 571), ('t', 267), ('u', 391), ('v', 68), ('x', 2), ('y', 122), ('z', 34), ('¡', 1), ('¿', 1), ('á', 31), ('é', 29), ('í', 95), ('ñ', 18), ('ó', 62), ('ú', 7), ('ü', 1)]  )\n",
    "\n",
    "print(src)\n",
    "sha = shannon_code(src); print(sha)\n",
    "\n",
    "src = list(src.items())\n",
    "\n",
    "corr = [(src[i][0],sha[i]) for i in range(len(src))] #print(corr)\n",
    "\n",
    "corr = dict(corr)\n",
    "\n",
    "#print(corr)\n",
    "#c = encode(\"ello. No estaba muy bien con las heridas que don Belianís daba y recebía, porque se imaginaba que, por grandes maestros que le hubiesen curado, no dejaría de tener el rostro y todo el cuerpo lleno de cicatrices y señales. Pero, con todo, alababa en su autor aquel acabar su libro con la promesa de aquella inacabable aventura, y muchas veces le vino deseo de tomar la pluma y dalle fin al pie de la letra, como allí se promete; y sin duda alguna lo hiciera, y aun saliera con ello, si otros mayores y continuos pensamientos no se lo estorbaran. Tuvo muchas veces competencia con el cura de su lugar -que era hombre docto, graduado en Sigüenza-, sobre cuál había\" ,corr)\n",
    "c = decode(\"0010000100110001001101100110010000001111100000001001001000001110010110100011110101101010001001010000101000100001010001101111001010011001011011010100000001101101000001101111100110010010001000010100001000000110001010100000110110101010010111010100100010010110000100100100111000100111100010011100010011010011101001110010011110000101000110001001100101100110111001110001000001010001100001111001110010110001101110001001010100000111000100001001111001001110001000010010001001001011001111011100010011100000110001011100011011100100011110000101000110001001000010100011001001100011000011011101010010001001111000001101101000101000010000001100001100001100110111010001000010100010000010011111010010100010000011000110000111010100010101001000001000001111100000001001000010011110010000100110010001010010001111000100100100000010011011001100100011110001001111100000101001000001001110001010001100110111000001010001101100011000100011111010101010001010001000010100011000100110010001010010001111100010000011010101101101101001111000001101010001111000011000011000100111100100111000111001001010010001001101000100110001001101000100011010110011011010001001000100100101010000001100010001111000101000010000001100010010001001001011001111100000111101000000011011000001010011000101001010100011110100000101011110001001101100010111001000101100100110101000000101000110001010111100110101101100101010000010100010000100111101000111010100001000000110000110000100001001000110000100111001011010100010010100000101000110000111110000000100111101110010001111001000010100010000010101000010000001101100011000010011110000011011011001100111001011100100001001010001001111000011100010101010111010001101001101111000011111000010100010010011110000110000110001001111001001110001110010010100100010011010000101000110001001111001101110011000010011111000100001010001000100101101011000011110001001001000000100110101010010000001100011000011101001110010100011001000000100000110000110011011100000010101000010000001101100011000100011110000111000111010000100000101100111000110111001000111100010100010001001000010011101001100010011110000101000110000101000110111100101010011010100100100011111000100000101001000110101010001100000110110100010010110000100100100111000100111100010011110010011101001100011011110001001110001001100011000010100011001000000110111110010001110010111001100100101011010100001010111000000100000111000101010101111010100101101000010100011000011000010000011110101101101011100010101010111101010010110100010100001000000110000010000100101010110000111000101010101111010100101101000011110011000100111000101001000011100010000010100011000100110001001100000100101001001101001101110001000010010101011000011100010101010111101010010110100000110110110100110011000010101000010000001110010000111000100001010000100000011000100100010001101000011100010101010111101010010110100010010100110001010000100000011101010110010000001010001100001100001000010101000100000011011111001100111000100001010011000110111010010101000111110000011100010101010100000101011101010001001100010100101100011010111010110010110100010010010000001001101010100100000011000011101001000101010110101000010101010010101010010101010001100010001111000001001100100110010001111000100100010110011011000100011110001010000100000011000010100011000101010001000000110111110011001110001000001010010111010100001011011010101101010001001010000010100101110101000010110110100101001010011011011001100011000100100010001101000011000010011110000011011111001100111000110110001100001001111000010001111000101001100100011101001100101110100110010111001000010011011000100001010001000010001111000100111000101001000011011010001001010011011100011100100001101010010001110001000001010001101100000100101001101110001110010001011100101010110011011011001100100000101000010000001100010010100110111000111001000011000011000010000101010001000000110111110011001110001000010100111011100010011010101000111010101110010101010100000101011011000100011010000011011111001100010011110000111000101010101110100011010011011110001001111001101110010101010010001000000110110000010011110100100011011100011000100100001010001100100110001100001101110010000000110110000010101011010000010111001000101101001000100001010001000010100011011111010100000110110010101100010001100100111100110001001111010001110000001101101100110001101101010100011011100110000100111100010100010000101000110111100110110110011001110001010101101000010011100110000110111100000110110000001111001101101100110010110101001001000100001010000100000011000011010100000011110011000011000100000011110010100100001001110001000001101010110000110000100111100000110110110011000110110101010010110011011100010000001101100000100101001101111100101010000010101101011011100101101111100110101010011001100011011000011011111000100000111101011\", corr)\n",
    "print(c)"
   ]
  },
  {
   "cell_type": "code",
   "execution_count": 31,
   "metadata": {},
   "outputs": [
    {
     "name": "stdout",
     "output_type": "stream",
     "text": [
      "temps codificació = 0.5926597270000009\n",
      "True\n",
      "temps descodificació = 1.9164459649999994\n"
     ]
    }
   ],
   "source": [
    "from time import process_time\n",
    "t = process_time();\n",
    "c = encode(txt_cat,corr);\n",
    "print(\"temps codificació =\",process_time()-t);\n",
    "t = process_time();\n",
    "print(decode(c,corr)==txt_cat);\n",
    "print(\"temps descodificació =\",process_time()-t)"
   ]
  },
  {
   "cell_type": "code",
   "execution_count": 32,
   "metadata": {},
   "outputs": [
    {
     "ename": "IndentationError",
     "evalue": "unexpected indent (3033727558.py, line 2)",
     "output_type": "error",
     "traceback": [
      "\u001b[0;36m  Cell \u001b[0;32mIn[32], line 2\u001b[0;36m\u001b[0m\n\u001b[0;31m    sum = 0\u001b[0m\n\u001b[0m    ^\u001b[0m\n\u001b[0;31mIndentationError\u001b[0m\u001b[0;31m:\u001b[0m unexpected indent\n"
     ]
    }
   ],
   "source": [
    "#def buscar_possibles_nums (list, q):\n",
    "    sum = 0\n",
    "    for i in list:\n",
    "        sum += (q**-i)\n",
    "    i = 1\n",
    "    nums = \"\"\n",
    "    while (sum < 1):\n",
    "        if (q**-i+sum <= 1):\n",
    "            print(i)\n",
    "            nums += str(i)\n",
    "        i+=1\n",
    "\n",
    "#list = [14, 15, 8, 2, 15, 4, 15, 5, 7, 9, 11, 9, 13, 4, 12, 8] \n",
    "#buscar_possibles_nums(list, 15)"
   ]
  }
 ],
 "metadata": {
  "kernelspec": {
   "display_name": "Python 3",
   "language": "python",
   "name": "python3"
  },
  "language_info": {
   "codemirror_mode": {
    "name": "ipython",
    "version": 3
   },
   "file_extension": ".py",
   "mimetype": "text/x-python",
   "name": "python",
   "nbconvert_exporter": "python",
   "pygments_lexer": "ipython3",
   "version": "3.10.7"
  },
  "orig_nbformat": 4,
  "vscode": {
   "interpreter": {
    "hash": "916dbcbb3f70747c44a77c7bcd40155683ae19c65e1c03b4aa3499c5328201f1"
   }
  }
 },
 "nbformat": 4,
 "nbformat_minor": 2
}
