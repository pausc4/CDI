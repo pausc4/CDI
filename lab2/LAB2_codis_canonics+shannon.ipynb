{
 "cells": [
  {
   "cell_type": "code",
   "execution_count": 84,
   "metadata": {},
   "outputs": [],
   "source": [
    "list =  [11, 15, 15, 9, 16, 14, 14, 2, 17, 14, 13, 5, 15, 9, 10, 16, 10, 12]\n",
    "alf = ['a','b','c','d','e','f','g','h','i']"
   ]
  },
  {
   "cell_type": "code",
   "execution_count": 85,
   "metadata": {},
   "outputs": [],
   "source": [
    "def comprovacio (list, q):\n",
    "    sum = 0\n",
    "    for i in list:\n",
    "        sum += (q**-i)\n",
    "    if sum <= 1: \n",
    "        return True\n",
    "    else: \n",
    "        return False"
   ]
  },
  {
   "cell_type": "code",
   "execution_count": 86,
   "metadata": {},
   "outputs": [],
   "source": [
    "import math\n",
    "\n",
    "def dec2alf(aux, q, alf, l):    \n",
    "    sol = \"\"\n",
    "    while aux > 0:\n",
    "        n = aux % q\n",
    "        sol = str(alf[n])+ sol\n",
    "        aux = math.floor(aux/q)\n",
    "    while len(sol) < l:\n",
    "        sol = str(alf[0]) + sol\n",
    "    return sol\n",
    " \n",
    "\n",
    "def canonical_code (list, q, alf = []):\n",
    "    list_copia = list.copy()\n",
    "    if comprovacio(list, q):\n",
    "        list_copia.sort()\n",
    "        sol = []\n",
    "        pre = 0\n",
    "        aux = 0\n",
    "        for i in list_copia:\n",
    "            if pre != 0 and pre != i:\n",
    "                aux = (q **(i - pre)) * aux\n",
    "            pre = i\n",
    "            sol.append(dec2alf(aux, q, alf, i))\n",
    "            #sol.append(format(aux, 'b').fill(i))\n",
    "            aux += 1\n",
    "        sol_ordenat = []\n",
    "        trobat = False\n",
    "        for i in list:\n",
    "            for j in sol:\n",
    "                if i == len(j) and not trobat:\n",
    "                    sol_ordenat.append(j)\n",
    "                    sol.remove(j)\n",
    "                    trobat = True\n",
    "            trobat = False\n",
    "        return sol_ordenat\n",
    "\n",
    "    else: \n",
    "        return -1\n",
    "\n",
    "#canonical_code(list)\n"
   ]
  },
  {
   "cell_type": "code",
   "execution_count": 87,
   "metadata": {},
   "outputs": [],
   "source": [
    "#src = [(' ', 381208), ('a', 200499), ('b', 24147), ('c', 59437), ('d', 87240), ('e', 229191), ('f', 7581), ('g', 17225), ('h', 19920), ('i', 90077), ('j', 10530), ('l', 89143), ('m', 44658), ('n', 112683), ('o', 162514), ('p', 35465), ('q', 32483), ('r', 100955), ('s', 125728), ('t', 61749), ('u', 79560), ('v', 17856), ('w', 2), ('x', 377), ('y', 25115), ('z', 6491)]\n",
    "\n",
    "from math import ceil, log2\n",
    "\n",
    "\n",
    "def shannon_code(src):\n",
    "    w = 0\n",
    "    p = []\n",
    "    for i in src:\n",
    "        w += i[1]\n",
    "    for i in src:\n",
    "        p.append(ceil(-log2(i[1]/w)))\n",
    "    p = canonical_code(p)\n",
    "    print(p)\n",
    "\n",
    "#shannon_code(src)\n"
   ]
  },
  {
   "cell_type": "code",
   "execution_count": 88,
   "metadata": {},
   "outputs": [
    {
     "name": "stdout",
     "output_type": "stream",
     "text": [
      "['abaabaaacca', 'abaabaaaccbbbda', 'abaabaaaccbbbdb', 'abaabaaaa', 'abaabaaaccbbbdda', 'abaabaaaccbbba', 'abaabaaaccbbbb', 'aa', 'abaabaaaccbbbddca', 'abaabaaaccbbbc', 'abaabaaaccbba', 'abaaa', 'abaabaaaccbbbdc', 'abaabaaab', 'abaabaaaca', 'abaabaaaccbbbddb', 'abaabaaacb', 'abaabaaaccba']\n"
     ]
    }
   ],
   "source": [
    "print(canonical_code (list, 9, alf))\n"
   ]
  }
 ],
 "metadata": {
  "kernelspec": {
   "display_name": "Python 3",
   "language": "python",
   "name": "python3"
  },
  "language_info": {
   "codemirror_mode": {
    "name": "ipython",
    "version": 3
   },
   "file_extension": ".py",
   "mimetype": "text/x-python",
   "name": "python",
   "nbconvert_exporter": "python",
   "pygments_lexer": "ipython3",
   "version": "3.10.7"
  },
  "orig_nbformat": 4,
  "vscode": {
   "interpreter": {
    "hash": "916dbcbb3f70747c44a77c7bcd40155683ae19c65e1c03b4aa3499c5328201f1"
   }
  }
 },
 "nbformat": 4,
 "nbformat_minor": 2
}
